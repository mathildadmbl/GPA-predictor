{
 "cells": [
  {
   "cell_type": "markdown",
   "id": "c4a3f973-212d-4218-ba01-d4ea89234fcb",
   "metadata": {},
   "source": [
    "# project : detecting student's GPA"
   ]
  },
  {
   "cell_type": "code",
   "execution_count": 2,
   "id": "bb9f45b6-3cf0-4272-9653-bada33a5a031",
   "metadata": {},
   "outputs": [],
   "source": [
    "# Initialisation des librairies pyspark\n",
    "\n",
    "# Initialisation de Spark\n",
    "import pyspark\n",
    "\n",
    "from pyspark.sql import SparkSession\n",
    "\n",
    "# import ML pyspark modules\n",
    "# some examples\n",
    "from pyspark.ml import Pipeline\n",
    "from pyspark.ml.classification import RandomForestClassifier\n",
    "from pyspark.ml.classification import MultilayerPerceptronClassifier\n",
    "\n",
    "from pyspark.ml.evaluation import MulticlassClassificationEvaluator\n",
    "from pyspark.ml.feature import StringIndexer\n",
    "from pyspark.ml.feature import VectorAssembler\n",
    "from pyspark.ml.linalg import Vectors\n",
    "from pyspark.ml.tuning import CrossValidator, ParamGridBuilder\n",
    "\n",
    "\n",
    "from pyspark.mllib.classification import LogisticRegressionWithLBFGS\n",
    "from pyspark.ml.classification import LogisticRegression\n",
    "from pyspark.mllib.evaluation import MulticlassMetrics\n",
    "from pyspark.mllib.util import MLUtils\n",
    "from pyspark.mllib.regression import LabeledPoint\n",
    "\n",
    "from pyspark import SparkConf, SparkContext, SQLContext\n",
    "\n",
    "import findspark\n",
    "findspark.init()\n",
    "\n",
    "spark = SparkSession \\\n",
    "    .builder \\\n",
    "    .appName(\"PROJECT : Student GPA\") \\\n",
    "    .config('spark.sql.warehouse.dir', r'file:C:\\Users\\mathi\\OneDrive\\Documents\\0_ECOLE\\1_IMTA\\3A\\D_IBDS\\4_PROJECT\\dataset') \\\n",
    "    .config('spark.executor.instances', 10) \\\n",
    "    .getOrCreate()"
   ]
  },
  {
   "cell_type": "markdown",
   "id": "e477fae2-97f1-4845-bf7e-1cad16fde3e7",
   "metadata": {},
   "source": [
    "## The data set"
   ]
  },
  {
   "cell_type": "code",
   "execution_count": 3,
   "id": "c14171ee-48f4-4e71-9794-3a7ca47d20a6",
   "metadata": {},
   "outputs": [],
   "source": [
    "# Train set reading\n",
    "fileNameTrain = 'train.csv'\n",
    "train_set = spark.read.csv(fileNameTrain, header = True, inferSchema = True)\n",
    "\n",
    "# Test set reading\n",
    "fileNameTest = 'test.csv'\n",
    "test_set = spark.read.csv(fileNameTest, header = True, inferSchema = True)"
   ]
  },
  {
   "cell_type": "code",
   "execution_count": 4,
   "id": "1fc7b43b-6b3c-4f2b-90bc-08f418c06ed2",
   "metadata": {},
   "outputs": [
    {
     "name": "stdout",
     "output_type": "stream",
     "text": [
      "root\n",
      " |-- StudentID: integer (nullable = true)\n",
      " |-- Age: integer (nullable = true)\n",
      " |-- Gender: integer (nullable = true)\n",
      " |-- Ethnicity: string (nullable = true)\n",
      " |-- ParentalEducation: string (nullable = true)\n",
      " |-- StudyTimeWeekly: double (nullable = true)\n",
      " |-- Absences: integer (nullable = true)\n",
      " |-- Tutoring: integer (nullable = true)\n",
      " |-- ParentalSupport: string (nullable = true)\n",
      " |-- Extracurricular: integer (nullable = true)\n",
      " |-- Sports: integer (nullable = true)\n",
      " |-- Music: integer (nullable = true)\n",
      " |-- Volunteering: integer (nullable = true)\n",
      " |-- GPA: double (nullable = true)\n",
      "\n",
      "root\n",
      " |-- StudentID: integer (nullable = true)\n",
      " |-- Age: integer (nullable = true)\n",
      " |-- Gender: integer (nullable = true)\n",
      " |-- Ethnicity: string (nullable = true)\n",
      " |-- ParentalEducation: string (nullable = true)\n",
      " |-- StudyTimeWeekly: double (nullable = true)\n",
      " |-- Absences: integer (nullable = true)\n",
      " |-- Tutoring: integer (nullable = true)\n",
      " |-- ParentalSupport: string (nullable = true)\n",
      " |-- Extracurricular: integer (nullable = true)\n",
      " |-- Sports: integer (nullable = true)\n",
      " |-- Music: integer (nullable = true)\n",
      " |-- Volunteering: integer (nullable = true)\n",
      " |-- GPA: double (nullable = true)\n",
      "\n"
     ]
    },
    {
     "data": {
      "text/plain": [
       "[Row(StudentID=2340, Age=16, Gender=1, Ethnicity='Other', ParentalEducation='Higher', StudyTimeWeekly=5.04404804318662, Absences=25, Tutoring=1, ParentalSupport='Moderate', Extracurricular=1, Sports=0, Music=0, Volunteering=0, GPA=0.886889415770466)]"
      ]
     },
     "execution_count": 4,
     "metadata": {},
     "output_type": "execute_result"
    }
   ],
   "source": [
    "# CHECKING THAT THEY HAVE THE SAME SCHEMA\n",
    "train_set.printSchema()\n",
    "test_set.printSchema()\n",
    "train_set.take(1)\n",
    "test_set.take(1)"
   ]
  },
  {
   "cell_type": "code",
   "execution_count": 9,
   "id": "68751ab1-ce3d-4fa5-ab8e-c3b4f338e78e",
   "metadata": {},
   "outputs": [
    {
     "name": "stdout",
     "output_type": "stream",
     "text": [
      "+--------------+--------+-----------+--------------+----------------------+--------------------+-------------+-------------+--------------------+--------------------+-----------+----------+-----------------+--------+\n",
      "|sum(StudentID)|sum(Age)|sum(Gender)|sum(Ethnicity)|sum(ParentalEducation)|sum(StudyTimeWeekly)|sum(Absences)|sum(Tutoring)|sum(ParentalSupport)|sum(Extracurricular)|sum(Sports)|sum(Music)|sum(Volunteering)|sum(GPA)|\n",
      "+--------------+--------+-----------+--------------+----------------------+--------------------+-------------+-------------+--------------------+--------------------+-----------+----------+-----------------+--------+\n",
      "|             0|       0|          0|             0|                   142|                   0|            0|            0|                 132|                   0|          0|         0|                0|       0|\n",
      "+--------------+--------+-----------+--------------+----------------------+--------------------+-------------+-------------+--------------------+--------------------+-----------+----------+-----------------+--------+\n",
      "\n"
     ]
    }
   ],
   "source": [
    "from pyspark.sql.functions import col\n",
    "\n",
    "train_set.select([(col(c).isNull().cast(\"int\")).alias(c) for c in train_set.columns]).groupBy().sum().show()"
   ]
  },
  {
   "cell_type": "markdown",
   "id": "35f8e255-52b5-4a3b-985c-2d69fe79b89c",
   "metadata": {},
   "source": [
    "only ParentalEducation and ParentalSupport have some missing values : this should be handled in our future pipelines."
   ]
  },
  {
   "cell_type": "code",
   "execution_count": 17,
   "id": "e2caf63c-c459-4e69-b247-98a72c5739ea",
   "metadata": {},
   "outputs": [
    {
     "name": "stdout",
     "output_type": "stream",
     "text": [
      "High School\n",
      "Higher\n",
      "Bachelor\n",
      "Some College\n",
      "None\n"
     ]
    }
   ],
   "source": [
    "categories = train_set.select(\"ParentalEducation\").distinct().collect()\n",
    "for row in categories:\n",
    "    print(row[\"ParentalEducation\"])"
   ]
  },
  {
   "cell_type": "code",
   "execution_count": 19,
   "id": "2cc2ad55-c528-48b9-ab89-bb5150dd5a74",
   "metadata": {},
   "outputs": [
    {
     "name": "stdout",
     "output_type": "stream",
     "text": [
      "High\n",
      "Very High\n",
      "Low\n",
      "Moderate\n",
      "None\n"
     ]
    }
   ],
   "source": [
    "categories = train_set.select(\"ParentalSupport\").distinct().collect()\n",
    "for row in categories:\n",
    "    print(row[\"ParentalSupport\"])"
   ]
  },
  {
   "cell_type": "markdown",
   "id": "f8e3a794-331f-48c5-9d0d-213f6359c8da",
   "metadata": {},
   "source": [
    "Because there is an order among those categories, let's map them then we will try to imput them."
   ]
  },
  {
   "cell_type": "code",
   "execution_count": 20,
   "id": "9157fe42-98ed-407d-b77d-86100f1538e4",
   "metadata": {},
   "outputs": [],
   "source": [
    "ordinal_mapping_education = {\"High School\": 1, \"Some College\": 2, \"Bachelor\": 3, \"Higher\": 4}\n",
    "ordinal_mapping_support = {\"Low\": 0, \"Moderate\": 1, \"High\": 2, \"Very High\": 4}"
   ]
  },
  {
   "cell_type": "code",
   "execution_count": 21,
   "id": "9427580e-e29e-4628-ab34-476e0dc47c8d",
   "metadata": {},
   "outputs": [],
   "source": [
    "from pyspark.ml import Transformer\n",
    "from pyspark.sql.functions import when, col\n",
    "\n",
    "class OrdinalEncoder(Transformer):\n",
    "    def __init__(self, mappings, inputCols, outputCols):\n",
    "        super(OrdinalEncoder, self).__init__()\n",
    "        self.mappings = mappings  \n",
    "        self.inputCols = inputCols\n",
    "        self.outputCols = outputCols\n",
    "\n",
    "    def _transform(self, df):\n",
    "        for inputCol, outputCol, mapping in zip(self.inputCols, self.outputCols, self.mappings):\n",
    "            expr = None\n",
    "            for category, value in mapping.items():\n",
    "                if expr is None:\n",
    "                    expr = when(col(inputCol) == category, value)\n",
    "                else:\n",
    "                    expr = expr.when(col(inputCol) == category, value)\n",
    "            df = df.withColumn(outputCol, expr.otherwise(None)) \n",
    "        return df"
   ]
  },
  {
   "cell_type": "code",
   "execution_count": 26,
   "id": "e65ce8ee-e3a0-41eb-8b01-be51807303fc",
   "metadata": {},
   "outputs": [],
   "source": [
    "from pyspark.ml.feature import Imputer\n",
    "\n",
    "encoder = OrdinalEncoder(\n",
    "    mappings=[ordinal_mapping_education, ordinal_mapping_support],\n",
    "    inputCols=[\"ParentalEducation\", \"ParentalSupport\"],\n",
    "    outputCols=[\"ParentalEducation\", \"ParentalSupport\"]\n",
    ")\n",
    "\n",
    "imputer = Imputer(\n",
    "    inputCols=[\"ParentalEducation\", \"ParentalSupport\"],\n",
    "    outputCols=[\"ParentalEducation\", \"ParentalSupport\"]\n",
    ").setStrategy(\"mode\")\n",
    "\n",
    "pipeline = Pipeline(stages=[encoder, imputer])"
   ]
  },
  {
   "cell_type": "code",
   "execution_count": 27,
   "id": "322a6149-b5d1-433c-abd0-285d454df0c4",
   "metadata": {},
   "outputs": [
    {
     "data": {
      "text/plain": [
       "[Row(StudentID=3321, Age=17, Gender=1, Ethnicity='Caucasian', ParentalEducation=1, StudyTimeWeekly=9.90635293867818, Absences=25, Tutoring=0, ParentalSupport=2, Extracurricular=1, Sports=1, Music=0, Volunteering=0, GPA=1.08238995034159),\n",
       " Row(StudentID=1160, Age=18, Gender=0, Ethnicity='Caucasian', ParentalEducation=1, StudyTimeWeekly=4.68115550034998, Absences=20, Tutoring=0, ParentalSupport=2, Extracurricular=0, Sports=0, Music=0, Volunteering=1, GPA=1.18954876961879),\n",
       " Row(StudentID=2644, Age=16, Gender=0, Ethnicity='Other', ParentalEducation=2, StudyTimeWeekly=6.84531185579492, Absences=13, Tutoring=0, ParentalSupport=1, Extracurricular=0, Sports=0, Music=1, Volunteering=0, GPA=1.85267174103724),\n",
       " Row(StudentID=2321, Age=18, Gender=0, Ethnicity='Asian', ParentalEducation=1, StudyTimeWeekly=19.8857597152212, Absences=2, Tutoring=0, ParentalSupport=2, Extracurricular=1, Sports=0, Music=0, Volunteering=0, GPA=3.51723712873573),\n",
       " Row(StudentID=2419, Age=15, Gender=1, Ethnicity='African American', ParentalEducation=3, StudyTimeWeekly=14.806260616879, Absences=20, Tutoring=0, ParentalSupport=4, Extracurricular=0, Sports=0, Music=0, Volunteering=0, GPA=1.58209326617451)]"
      ]
     },
     "execution_count": 27,
     "metadata": {},
     "output_type": "execute_result"
    }
   ],
   "source": [
    "pipeline_model = pipeline.fit(train_set)\n",
    "df_transformed = pipeline_model.transform(train_set)\n",
    "\n",
    "df_transformed.take(5)"
   ]
  },
  {
   "cell_type": "markdown",
   "id": "e9c93e8f-1439-4de2-a6d4-639c66600ec9",
   "metadata": {},
   "source": [
    "Transform the other features"
   ]
  },
  {
   "cell_type": "code",
   "execution_count": 30,
   "id": "91ad760a-136b-4ed9-ab03-9556fd3d7502",
   "metadata": {},
   "outputs": [],
   "source": [
    "numerical_features = [\"Age\", \"StudyTimeWeekly\", \"Absences\"]\n",
    "categorical_features = [\"Ethnicity\"]\n",
    "\n",
    "# the other columns are already preprocessed"
   ]
  },
  {
   "cell_type": "code",
   "execution_count": 48,
   "id": "b663005b-4a29-4a4d-9bb8-1bd2760f1887",
   "metadata": {},
   "outputs": [],
   "source": [
    "from pyspark.ml.feature import OneHotEncoder, StandardScaler, VectorAssembler, StringIndexer\n",
    "\n",
    "# one hot \n",
    "indexer = StringIndexer(inputCol=\"Ethnicity\", outputCol=\"Ethnicity_indexed\")\n",
    "onehot_encoder= OneHotEncoder(inputCol=\"Ethnicity_indexed\", outputCol=\"Ethnicity_encoded\")\n",
    "# scaling\n",
    "numeric_assembler = VectorAssembler(inputCols=numerical_features, outputCol=\"numeric_features\")\n",
    "scaler = StandardScaler(inputCol=\"numeric_features\", outputCol=\"numeric_features\")"
   ]
  },
  {
   "cell_type": "code",
   "execution_count": 49,
   "id": "f080360a-c290-476f-8e4d-f7a0ece1a59c",
   "metadata": {},
   "outputs": [
    {
     "data": {
      "text/plain": [
       "[Row(StudentID=3321, Age=17, Gender=1, Ethnicity='Caucasian', ParentalEducation='High School', StudyTimeWeekly=9.90635293867818, Absences=25, Tutoring=0, ParentalSupport='High', Extracurricular=1, Sports=1, Music=0, Volunteering=0, GPA=1.08238995034159, Ethnicity_indexed=0.0, Ethnicity_encoded=SparseVector(3, {0: 1.0})),\n",
       " Row(StudentID=1160, Age=18, Gender=0, Ethnicity='Caucasian', ParentalEducation='High School', StudyTimeWeekly=4.68115550034998, Absences=20, Tutoring=0, ParentalSupport='High', Extracurricular=0, Sports=0, Music=0, Volunteering=1, GPA=1.18954876961879, Ethnicity_indexed=0.0, Ethnicity_encoded=SparseVector(3, {0: 1.0})),\n",
       " Row(StudentID=2644, Age=16, Gender=0, Ethnicity='Other', ParentalEducation='Some College', StudyTimeWeekly=6.84531185579492, Absences=13, Tutoring=0, ParentalSupport=None, Extracurricular=0, Sports=0, Music=1, Volunteering=0, GPA=1.85267174103724, Ethnicity_indexed=3.0, Ethnicity_encoded=SparseVector(3, {})),\n",
       " Row(StudentID=2321, Age=18, Gender=0, Ethnicity='Asian', ParentalEducation='High School', StudyTimeWeekly=19.8857597152212, Absences=2, Tutoring=0, ParentalSupport='High', Extracurricular=1, Sports=0, Music=0, Volunteering=0, GPA=3.51723712873573, Ethnicity_indexed=2.0, Ethnicity_encoded=SparseVector(3, {2: 1.0})),\n",
       " Row(StudentID=2419, Age=15, Gender=1, Ethnicity='African American', ParentalEducation='Bachelor', StudyTimeWeekly=14.806260616879, Absences=20, Tutoring=0, ParentalSupport='Very High', Extracurricular=0, Sports=0, Music=0, Volunteering=0, GPA=1.58209326617451, Ethnicity_indexed=1.0, Ethnicity_encoded=SparseVector(3, {1: 1.0}))]"
      ]
     },
     "execution_count": 49,
     "metadata": {},
     "output_type": "execute_result"
    }
   ],
   "source": [
    "pipeline = Pipeline(stages=[indexer, onehot_encoder])\n",
    "pipeline_model = pipeline.fit(train_set)\n",
    "df_transformed = pipeline_model.transform(train_set)\n",
    "\n",
    "df_transformed.take(5)"
   ]
  },
  {
   "cell_type": "markdown",
   "id": "7b7ef9d0-0152-452c-bad1-80bcd1abb1c1",
   "metadata": {},
   "source": [
    "faire une selection des colonnes dans les tp "
   ]
  }
 ],
 "metadata": {
  "kernelspec": {
   "display_name": "Python 3 (ipykernel)",
   "language": "python",
   "name": "python3"
  },
  "language_info": {
   "codemirror_mode": {
    "name": "ipython",
    "version": 3
   },
   "file_extension": ".py",
   "mimetype": "text/x-python",
   "name": "python",
   "nbconvert_exporter": "python",
   "pygments_lexer": "ipython3",
   "version": "3.11.6"
  }
 },
 "nbformat": 4,
 "nbformat_minor": 5
}
